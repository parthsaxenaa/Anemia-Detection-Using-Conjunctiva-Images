{
 "cells": [
  {
   "cell_type": "code",
   "execution_count": 1,
   "metadata": {},
   "outputs": [],
   "source": [
    "from sklearn.ensemble import RandomForestClassifier\n",
    "import cv2 as cv\n",
    "import numpy as np\n",
    "import os\n",
    "import matplotlib.pyplot as plt\n",
    "from keras.layers import Input, Dense, Conv2D, MaxPool2D, GlobalAveragePooling2D\n",
    "from keras.models import Sequential, Model\n",
    "from sklearn.metrics import accuracy_score, classification_report, confusion_matrix"
   ]
  },
  {
   "cell_type": "code",
   "execution_count": 28,
   "metadata": {},
   "outputs": [],
   "source": [
    "data = []\n",
    "data_dir = 'artifacts'\n",
    "dirs = os.listdir(data_dir)\n",
    "            \n",
    "for i in dirs:\n",
    "    path = os.path.join(data_dir,i)\n",
    "    for img in os.listdir(path):\n",
    "        image = cv.imread(os.path.join(path,img))\n",
    "        image = cv.resize(image, (64,64))\n",
    "        data.append([image, i])"
   ]
  },
  {
   "cell_type": "code",
   "execution_count": 29,
   "metadata": {},
   "outputs": [],
   "source": [
    "images = []\n",
    "labels = []\n",
    "\n",
    "for img, lab in data:\n",
    "    images.append(img)\n",
    "    labels.append(lab)"
   ]
  },
  {
   "cell_type": "code",
   "execution_count": 30,
   "metadata": {},
   "outputs": [],
   "source": [
    "from sklearn.preprocessing import LabelEncoder"
   ]
  },
  {
   "cell_type": "code",
   "execution_count": 31,
   "metadata": {},
   "outputs": [],
   "source": [
    "images = np.array(images)"
   ]
  },
  {
   "cell_type": "code",
   "execution_count": 72,
   "metadata": {},
   "outputs": [],
   "source": [
    "images = images/255."
   ]
  },
  {
   "cell_type": "code",
   "execution_count": 52,
   "metadata": {},
   "outputs": [],
   "source": [
    "le = LabelEncoder()\n",
    "encoded = le.fit_transform(labels)"
   ]
  },
  {
   "cell_type": "code",
   "execution_count": 33,
   "metadata": {},
   "outputs": [],
   "source": [
    "labels = np.array(labels)"
   ]
  },
  {
   "cell_type": "code",
   "execution_count": 12,
   "metadata": {},
   "outputs": [],
   "source": [
    "from sklearn.model_selection import train_test_split"
   ]
  },
  {
   "cell_type": "code",
   "execution_count": 73,
   "metadata": {},
   "outputs": [],
   "source": [
    "x_train, x_test, y_train, y_test = train_test_split(images, encoded, test_size=0.1)"
   ]
  },
  {
   "cell_type": "code",
   "execution_count": 132,
   "metadata": {},
   "outputs": [],
   "source": [
    "inputs = Input(shape=(64,64,3))\n",
    "\n",
    "x1 = (Conv2D(32, (2,2), input_shape=(64,64,3), padding=\"same\", activation=\"relu\"))(inputs)\n",
    "x2 = (MaxPool2D(2,2))(x1)\n",
    "x3 = (Conv2D(64, (2,2), padding=\"same\", activation=\"relu\"))(x2)\n",
    "x4 = (MaxPool2D(2,2))(x3)\n",
    "x5 = (Conv2D(128, (2,2), padding=\"same\", activation=\"relu\"))(x4)\n",
    "x6 = (MaxPool2D(2,2))(x5)\n",
    "\n",
    "x7 = (GlobalAveragePooling2D())(x6)\n",
    "x8 = (Dense(100, activation=\"relu\"))(x7)\n",
    "x9 = (Dense(2, activation=\"sigmoid\"))(x8)"
   ]
  },
  {
   "cell_type": "code",
   "execution_count": 135,
   "metadata": {},
   "outputs": [],
   "source": [
    "model = Model(inputs=inputs, outputs=x9)"
   ]
  },
  {
   "cell_type": "code",
   "execution_count": 136,
   "metadata": {},
   "outputs": [
    {
     "name": "stdout",
     "output_type": "stream",
     "text": [
      "Model: \"model\"\n",
      "_________________________________________________________________\n",
      " Layer (type)                Output Shape              Param #   \n",
      "=================================================================\n",
      " input_4 (InputLayer)        [(None, 64, 64, 3)]       0         \n",
      "                                                                 \n",
      " conv2d (Conv2D)             (None, 64, 64, 32)        416       \n",
      "                                                                 \n",
      " max_pooling2d (MaxPooling2  (None, 32, 32, 32)        0         \n",
      " D)                                                              \n",
      "                                                                 \n",
      " conv2d_1 (Conv2D)           (None, 32, 32, 64)        8256      \n",
      "                                                                 \n",
      " max_pooling2d_1 (MaxPoolin  (None, 16, 16, 64)        0         \n",
      " g2D)                                                            \n",
      "                                                                 \n",
      " conv2d_2 (Conv2D)           (None, 16, 16, 128)       32896     \n",
      "                                                                 \n",
      " max_pooling2d_2 (MaxPoolin  (None, 8, 8, 128)         0         \n",
      " g2D)                                                            \n",
      "                                                                 \n",
      " global_average_pooling2d_1  (None, 128)               0         \n",
      "  (GlobalAveragePooling2D)                                       \n",
      "                                                                 \n",
      " dense_2 (Dense)             (None, 100)               12900     \n",
      "                                                                 \n",
      " dense_3 (Dense)             (None, 2)                 202       \n",
      "                                                                 \n",
      "=================================================================\n",
      "Total params: 54670 (213.55 KB)\n",
      "Trainable params: 54670 (213.55 KB)\n",
      "Non-trainable params: 0 (0.00 Byte)\n",
      "_________________________________________________________________\n"
     ]
    }
   ],
   "source": [
    "model.summary()"
   ]
  },
  {
   "cell_type": "code",
   "execution_count": 137,
   "metadata": {},
   "outputs": [],
   "source": [
    "model.compile(optimizer=\"adam\", loss=\"sparse_categorical_crossentropy\", metrics=['accuracy'])"
   ]
  },
  {
   "cell_type": "code",
   "execution_count": 138,
   "metadata": {},
   "outputs": [
    {
     "name": "stdout",
     "output_type": "stream",
     "text": [
      "Epoch 1/40\n",
      "480/480 [==============================] - 19s 36ms/step - loss: 0.6757 - accuracy: 0.5969 - val_loss: 0.6722 - val_accuracy: 0.6019\n",
      "Epoch 2/40\n",
      "480/480 [==============================] - 22s 47ms/step - loss: 0.6719 - accuracy: 0.6008 - val_loss: 0.6653 - val_accuracy: 0.6066\n",
      "Epoch 3/40\n",
      "480/480 [==============================] - 21s 43ms/step - loss: 0.6591 - accuracy: 0.6034 - val_loss: 0.6558 - val_accuracy: 0.5948\n",
      "Epoch 4/40\n",
      "480/480 [==============================] - 24s 50ms/step - loss: 0.6486 - accuracy: 0.6222 - val_loss: 0.6511 - val_accuracy: 0.6042\n",
      "Epoch 5/40\n",
      "480/480 [==============================] - 22s 46ms/step - loss: 0.6412 - accuracy: 0.6435 - val_loss: 0.6511 - val_accuracy: 0.6089\n",
      "Epoch 6/40\n",
      "480/480 [==============================] - 25s 52ms/step - loss: 0.6358 - accuracy: 0.6386 - val_loss: 0.6458 - val_accuracy: 0.6230\n",
      "Epoch 7/40\n",
      "480/480 [==============================] - 23s 47ms/step - loss: 0.6309 - accuracy: 0.6472 - val_loss: 0.6480 - val_accuracy: 0.6136\n",
      "Epoch 8/40\n",
      "480/480 [==============================] - 28s 59ms/step - loss: 0.6218 - accuracy: 0.6608 - val_loss: 0.6378 - val_accuracy: 0.6464\n",
      "Epoch 9/40\n",
      "480/480 [==============================] - 26s 55ms/step - loss: 0.6077 - accuracy: 0.6787 - val_loss: 0.6282 - val_accuracy: 0.6393\n",
      "Epoch 10/40\n",
      "480/480 [==============================] - 21s 44ms/step - loss: 0.5907 - accuracy: 0.6991 - val_loss: 0.6101 - val_accuracy: 0.6721\n",
      "Epoch 11/40\n",
      "480/480 [==============================] - 20s 42ms/step - loss: 0.5763 - accuracy: 0.7033 - val_loss: 0.5953 - val_accuracy: 0.6721\n",
      "Epoch 12/40\n",
      "480/480 [==============================] - 21s 43ms/step - loss: 0.5599 - accuracy: 0.7090 - val_loss: 0.5755 - val_accuracy: 0.6885\n",
      "Epoch 13/40\n",
      "480/480 [==============================] - 22s 46ms/step - loss: 0.5360 - accuracy: 0.7353 - val_loss: 0.5744 - val_accuracy: 0.6885\n",
      "Epoch 14/40\n",
      "480/480 [==============================] - 20s 42ms/step - loss: 0.5165 - accuracy: 0.7353 - val_loss: 0.5586 - val_accuracy: 0.6956\n",
      "Epoch 15/40\n",
      "480/480 [==============================] - 20s 43ms/step - loss: 0.4964 - accuracy: 0.7604 - val_loss: 0.5176 - val_accuracy: 0.7283\n",
      "Epoch 16/40\n",
      "480/480 [==============================] - 22s 46ms/step - loss: 0.4568 - accuracy: 0.7883 - val_loss: 0.5540 - val_accuracy: 0.7190\n",
      "Epoch 17/40\n",
      "480/480 [==============================] - 23s 49ms/step - loss: 0.4403 - accuracy: 0.7930 - val_loss: 0.5181 - val_accuracy: 0.7494\n",
      "Epoch 18/40\n",
      "480/480 [==============================] - 22s 45ms/step - loss: 0.3941 - accuracy: 0.8164 - val_loss: 0.5346 - val_accuracy: 0.7564\n",
      "Epoch 19/40\n",
      "480/480 [==============================] - 20s 41ms/step - loss: 0.3811 - accuracy: 0.8284 - val_loss: 0.4464 - val_accuracy: 0.8009\n",
      "Epoch 20/40\n",
      "480/480 [==============================] - 20s 41ms/step - loss: 0.3380 - accuracy: 0.8464 - val_loss: 0.4241 - val_accuracy: 0.7916\n",
      "Epoch 21/40\n",
      "480/480 [==============================] - 20s 41ms/step - loss: 0.3058 - accuracy: 0.8670 - val_loss: 0.4375 - val_accuracy: 0.7892\n",
      "Epoch 22/40\n",
      "480/480 [==============================] - 19s 39ms/step - loss: 0.2925 - accuracy: 0.8780 - val_loss: 0.4284 - val_accuracy: 0.8033\n",
      "Epoch 23/40\n",
      "480/480 [==============================] - 20s 41ms/step - loss: 0.2599 - accuracy: 0.8999 - val_loss: 0.3731 - val_accuracy: 0.8642\n",
      "Epoch 24/40\n",
      "480/480 [==============================] - 20s 41ms/step - loss: 0.2319 - accuracy: 0.9082 - val_loss: 0.4134 - val_accuracy: 0.8103\n",
      "Epoch 25/40\n",
      "480/480 [==============================] - 19s 39ms/step - loss: 0.2146 - accuracy: 0.9142 - val_loss: 0.4541 - val_accuracy: 0.8337\n",
      "Epoch 26/40\n",
      "480/480 [==============================] - 18s 38ms/step - loss: 0.2033 - accuracy: 0.9205 - val_loss: 0.3803 - val_accuracy: 0.8525\n",
      "Epoch 27/40\n",
      "480/480 [==============================] - 21s 44ms/step - loss: 0.1779 - accuracy: 0.9286 - val_loss: 0.2979 - val_accuracy: 0.9063\n",
      "Epoch 28/40\n",
      "480/480 [==============================] - 21s 43ms/step - loss: 0.1592 - accuracy: 0.9400 - val_loss: 0.2967 - val_accuracy: 0.8993\n",
      "Epoch 29/40\n",
      "480/480 [==============================] - 20s 41ms/step - loss: 0.1355 - accuracy: 0.9512 - val_loss: 0.3997 - val_accuracy: 0.8618\n",
      "Epoch 30/40\n",
      "480/480 [==============================] - 21s 43ms/step - loss: 0.1307 - accuracy: 0.9523 - val_loss: 0.3112 - val_accuracy: 0.8759\n",
      "Epoch 31/40\n",
      "480/480 [==============================] - 20s 42ms/step - loss: 0.1180 - accuracy: 0.9606 - val_loss: 0.3550 - val_accuracy: 0.8735\n",
      "Epoch 32/40\n",
      "480/480 [==============================] - 20s 41ms/step - loss: 0.0896 - accuracy: 0.9713 - val_loss: 0.2700 - val_accuracy: 0.9087\n",
      "Epoch 33/40\n",
      "480/480 [==============================] - 20s 41ms/step - loss: 0.1034 - accuracy: 0.9625 - val_loss: 0.5788 - val_accuracy: 0.8197\n",
      "Epoch 34/40\n",
      "480/480 [==============================] - 20s 42ms/step - loss: 0.1060 - accuracy: 0.9625 - val_loss: 0.3609 - val_accuracy: 0.8759\n",
      "Epoch 35/40\n",
      "480/480 [==============================] - 20s 41ms/step - loss: 0.0696 - accuracy: 0.9802 - val_loss: 0.2953 - val_accuracy: 0.9110\n",
      "Epoch 36/40\n",
      "480/480 [==============================] - 20s 41ms/step - loss: 0.0585 - accuracy: 0.9828 - val_loss: 0.2442 - val_accuracy: 0.9321\n",
      "Epoch 37/40\n",
      "480/480 [==============================] - 20s 42ms/step - loss: 0.0564 - accuracy: 0.9820 - val_loss: 0.2972 - val_accuracy: 0.9204\n",
      "Epoch 38/40\n",
      "480/480 [==============================] - 20s 42ms/step - loss: 0.0488 - accuracy: 0.9859 - val_loss: 0.3161 - val_accuracy: 0.9133\n",
      "Epoch 39/40\n",
      "480/480 [==============================] - 19s 39ms/step - loss: 0.1151 - accuracy: 0.9645 - val_loss: 0.3803 - val_accuracy: 0.8806\n",
      "Epoch 40/40\n",
      "480/480 [==============================] - 18s 38ms/step - loss: 0.0579 - accuracy: 0.9804 - val_loss: 0.4789 - val_accuracy: 0.8571\n"
     ]
    }
   ],
   "source": [
    "history = model.fit(x_train, y_train, validation_data=(x_test,y_test), epochs=40, batch_size=8)"
   ]
  },
  {
   "cell_type": "code",
   "execution_count": 140,
   "metadata": {},
   "outputs": [],
   "source": [
    "temp = Model(inputs=inputs, outputs=x6)"
   ]
  },
  {
   "cell_type": "code",
   "execution_count": 141,
   "metadata": {},
   "outputs": [
    {
     "name": "stdout",
     "output_type": "stream",
     "text": [
      "Model: \"model_2\"\n",
      "_________________________________________________________________\n",
      " Layer (type)                Output Shape              Param #   \n",
      "=================================================================\n",
      " input_4 (InputLayer)        [(None, 64, 64, 3)]       0         \n",
      "                                                                 \n",
      " conv2d (Conv2D)             (None, 64, 64, 32)        416       \n",
      "                                                                 \n",
      " max_pooling2d (MaxPooling2  (None, 32, 32, 32)        0         \n",
      " D)                                                              \n",
      "                                                                 \n",
      " conv2d_1 (Conv2D)           (None, 32, 32, 64)        8256      \n",
      "                                                                 \n",
      " max_pooling2d_1 (MaxPoolin  (None, 16, 16, 64)        0         \n",
      " g2D)                                                            \n",
      "                                                                 \n",
      " conv2d_2 (Conv2D)           (None, 16, 16, 128)       32896     \n",
      "                                                                 \n",
      " max_pooling2d_2 (MaxPoolin  (None, 8, 8, 128)         0         \n",
      " g2D)                                                            \n",
      "                                                                 \n",
      "=================================================================\n",
      "Total params: 41568 (162.38 KB)\n",
      "Trainable params: 41568 (162.38 KB)\n",
      "Non-trainable params: 0 (0.00 Byte)\n",
      "_________________________________________________________________\n"
     ]
    }
   ],
   "source": [
    "temp.summary()"
   ]
  },
  {
   "cell_type": "code",
   "execution_count": 142,
   "metadata": {},
   "outputs": [
    {
     "name": "stdout",
     "output_type": "stream",
     "text": [
      "120/120 [==============================] - 5s 37ms/step\n"
     ]
    }
   ],
   "source": [
    "train_features = temp.predict(x_train)"
   ]
  },
  {
   "cell_type": "code",
   "execution_count": 143,
   "metadata": {},
   "outputs": [
    {
     "data": {
      "text/plain": [
       "(3835, 8, 8, 128)"
      ]
     },
     "execution_count": 143,
     "metadata": {},
     "output_type": "execute_result"
    }
   ],
   "source": [
    "train_features.shape"
   ]
  },
  {
   "cell_type": "code",
   "execution_count": 144,
   "metadata": {},
   "outputs": [],
   "source": [
    "train_reshaped = train_features.reshape(train_features.shape[0], -1)"
   ]
  },
  {
   "cell_type": "code",
   "execution_count": 145,
   "metadata": {},
   "outputs": [
    {
     "data": {
      "text/plain": [
       "(3835, 8192)"
      ]
     },
     "execution_count": 145,
     "metadata": {},
     "output_type": "execute_result"
    }
   ],
   "source": [
    "train_reshaped.shape"
   ]
  },
  {
   "cell_type": "code",
   "execution_count": 147,
   "metadata": {},
   "outputs": [
    {
     "name": "stdout",
     "output_type": "stream",
     "text": [
      "14/14 [==============================] - 1s 33ms/step\n"
     ]
    }
   ],
   "source": [
    "test_features = temp.predict(x_test)\n",
    "test_reshaped = test_features.reshape(test_features.shape[0], -1)"
   ]
  },
  {
   "cell_type": "code",
   "execution_count": 148,
   "metadata": {},
   "outputs": [
    {
     "data": {
      "text/plain": [
       "(427, 8192)"
      ]
     },
     "execution_count": 148,
     "metadata": {},
     "output_type": "execute_result"
    }
   ],
   "source": [
    "test_reshaped.shape"
   ]
  },
  {
   "cell_type": "code",
   "execution_count": 152,
   "metadata": {},
   "outputs": [
    {
     "data": {
      "text/html": [
       "<style>#sk-container-id-12 {color: black;}#sk-container-id-12 pre{padding: 0;}#sk-container-id-12 div.sk-toggleable {background-color: white;}#sk-container-id-12 label.sk-toggleable__label {cursor: pointer;display: block;width: 100%;margin-bottom: 0;padding: 0.3em;box-sizing: border-box;text-align: center;}#sk-container-id-12 label.sk-toggleable__label-arrow:before {content: \"▸\";float: left;margin-right: 0.25em;color: #696969;}#sk-container-id-12 label.sk-toggleable__label-arrow:hover:before {color: black;}#sk-container-id-12 div.sk-estimator:hover label.sk-toggleable__label-arrow:before {color: black;}#sk-container-id-12 div.sk-toggleable__content {max-height: 0;max-width: 0;overflow: hidden;text-align: left;background-color: #f0f8ff;}#sk-container-id-12 div.sk-toggleable__content pre {margin: 0.2em;color: black;border-radius: 0.25em;background-color: #f0f8ff;}#sk-container-id-12 input.sk-toggleable__control:checked~div.sk-toggleable__content {max-height: 200px;max-width: 100%;overflow: auto;}#sk-container-id-12 input.sk-toggleable__control:checked~label.sk-toggleable__label-arrow:before {content: \"▾\";}#sk-container-id-12 div.sk-estimator input.sk-toggleable__control:checked~label.sk-toggleable__label {background-color: #d4ebff;}#sk-container-id-12 div.sk-label input.sk-toggleable__control:checked~label.sk-toggleable__label {background-color: #d4ebff;}#sk-container-id-12 input.sk-hidden--visually {border: 0;clip: rect(1px 1px 1px 1px);clip: rect(1px, 1px, 1px, 1px);height: 1px;margin: -1px;overflow: hidden;padding: 0;position: absolute;width: 1px;}#sk-container-id-12 div.sk-estimator {font-family: monospace;background-color: #f0f8ff;border: 1px dotted black;border-radius: 0.25em;box-sizing: border-box;margin-bottom: 0.5em;}#sk-container-id-12 div.sk-estimator:hover {background-color: #d4ebff;}#sk-container-id-12 div.sk-parallel-item::after {content: \"\";width: 100%;border-bottom: 1px solid gray;flex-grow: 1;}#sk-container-id-12 div.sk-label:hover label.sk-toggleable__label {background-color: #d4ebff;}#sk-container-id-12 div.sk-serial::before {content: \"\";position: absolute;border-left: 1px solid gray;box-sizing: border-box;top: 0;bottom: 0;left: 50%;z-index: 0;}#sk-container-id-12 div.sk-serial {display: flex;flex-direction: column;align-items: center;background-color: white;padding-right: 0.2em;padding-left: 0.2em;position: relative;}#sk-container-id-12 div.sk-item {position: relative;z-index: 1;}#sk-container-id-12 div.sk-parallel {display: flex;align-items: stretch;justify-content: center;background-color: white;position: relative;}#sk-container-id-12 div.sk-item::before, #sk-container-id-12 div.sk-parallel-item::before {content: \"\";position: absolute;border-left: 1px solid gray;box-sizing: border-box;top: 0;bottom: 0;left: 50%;z-index: -1;}#sk-container-id-12 div.sk-parallel-item {display: flex;flex-direction: column;z-index: 1;position: relative;background-color: white;}#sk-container-id-12 div.sk-parallel-item:first-child::after {align-self: flex-end;width: 50%;}#sk-container-id-12 div.sk-parallel-item:last-child::after {align-self: flex-start;width: 50%;}#sk-container-id-12 div.sk-parallel-item:only-child::after {width: 0;}#sk-container-id-12 div.sk-dashed-wrapped {border: 1px dashed gray;margin: 0 0.4em 0.5em 0.4em;box-sizing: border-box;padding-bottom: 0.4em;background-color: white;}#sk-container-id-12 div.sk-label label {font-family: monospace;font-weight: bold;display: inline-block;line-height: 1.2em;}#sk-container-id-12 div.sk-label-container {text-align: center;}#sk-container-id-12 div.sk-container {/* jupyter's `normalize.less` sets `[hidden] { display: none; }` but bootstrap.min.css set `[hidden] { display: none !important; }` so we also need the `!important` here to be able to override the default hidden behavior on the sphinx rendered scikit-learn.org. See: https://github.com/scikit-learn/scikit-learn/issues/21755 */display: inline-block !important;position: relative;}#sk-container-id-12 div.sk-text-repr-fallback {display: none;}</style><div id=\"sk-container-id-12\" class=\"sk-top-container\"><div class=\"sk-text-repr-fallback\"><pre>RandomForestClassifier()</pre><b>In a Jupyter environment, please rerun this cell to show the HTML representation or trust the notebook. <br />On GitHub, the HTML representation is unable to render, please try loading this page with nbviewer.org.</b></div><div class=\"sk-container\" hidden><div class=\"sk-item\"><div class=\"sk-estimator sk-toggleable\"><input class=\"sk-toggleable__control sk-hidden--visually\" id=\"sk-estimator-id-12\" type=\"checkbox\" checked><label for=\"sk-estimator-id-12\" class=\"sk-toggleable__label sk-toggleable__label-arrow\">RandomForestClassifier</label><div class=\"sk-toggleable__content\"><pre>RandomForestClassifier()</pre></div></div></div></div></div>"
      ],
      "text/plain": [
       "RandomForestClassifier()"
      ]
     },
     "execution_count": 152,
     "metadata": {},
     "output_type": "execute_result"
    }
   ],
   "source": [
    "rf = RandomForestClassifier()\n",
    "rf.fit(train_reshaped, y_train)"
   ]
  },
  {
   "cell_type": "code",
   "execution_count": 153,
   "metadata": {},
   "outputs": [],
   "source": [
    "y_pred_rf = rf.predict(test_reshaped)"
   ]
  },
  {
   "cell_type": "code",
   "execution_count": 154,
   "metadata": {},
   "outputs": [
    {
     "data": {
      "text/plain": [
       "0.9578454332552693"
      ]
     },
     "execution_count": 154,
     "metadata": {},
     "output_type": "execute_result"
    }
   ],
   "source": [
    "accuracy_score(y_pred_rf, y_test)"
   ]
  },
  {
   "cell_type": "code",
   "execution_count": 155,
   "metadata": {},
   "outputs": [
    {
     "data": {
      "text/plain": [
       "array([[251,  12],\n",
       "       [  6, 158]], dtype=int64)"
      ]
     },
     "execution_count": 155,
     "metadata": {},
     "output_type": "execute_result"
    }
   ],
   "source": [
    "confusion_matrix(y_pred_rf, y_test)"
   ]
  },
  {
   "cell_type": "code",
   "execution_count": null,
   "metadata": {},
   "outputs": [],
   "source": []
  }
 ],
 "metadata": {
  "kernelspec": {
   "display_name": "venv",
   "language": "python",
   "name": "python3"
  },
  "language_info": {
   "codemirror_mode": {
    "name": "ipython",
    "version": 3
   },
   "file_extension": ".py",
   "mimetype": "text/x-python",
   "name": "python",
   "nbconvert_exporter": "python",
   "pygments_lexer": "ipython3",
   "version": "3.11.3"
  }
 },
 "nbformat": 4,
 "nbformat_minor": 2
}
